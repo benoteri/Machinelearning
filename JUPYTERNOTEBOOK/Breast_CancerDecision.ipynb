{
  "nbformat": 4,
  "nbformat_minor": 0,
  "metadata": {
    "colab": {
      "name": "Breast_CancerDecision.ipynb",
      "provenance": []
    },
    "kernelspec": {
      "name": "python3",
      "display_name": "Python 3"
    },
    "language_info": {
      "name": "python"
    }
  },
  "cells": [
    {
      "cell_type": "code",
      "source": [
        "!apt-get -qq install -y graphviz && pip install pydot"
      ],
      "metadata": {
        "colab": {
          "base_uri": "https://localhost:8080/"
        },
        "id": "uJNINzPlpfz_",
        "outputId": "b372a9c8-7b39-4474-eedf-a29c472ae50b"
      },
      "execution_count": 15,
      "outputs": [
        {
          "output_type": "stream",
          "name": "stdout",
          "text": [
            "Looking in indexes: https://pypi.org/simple, https://us-python.pkg.dev/colab-wheels/public/simple/\n",
            "Requirement already satisfied: pydot in /usr/local/lib/python3.7/dist-packages (1.3.0)\n",
            "Requirement already satisfied: pyparsing>=2.1.4 in /usr/local/lib/python3.7/dist-packages (from pydot) (3.0.9)\n"
          ]
        }
      ]
    },
    {
      "cell_type": "code",
      "source": [
        "from sklearn.datasets import load_breast_cancer\n",
        "from sklearn.model_selection import train_test_split\n",
        "from sklearn.tree import DecisionTreeClassifier\n",
        "cancer = load_breast_cancer()\n",
        "X_train,X_test,y_train,y_test = train_test_split(\n",
        "    cancer.data,cancer.target,stratify=cancer.target, random_state=42)\n",
        "tree = DecisionTreeClassifier(random_state =0)\n",
        "tree.fit(X_train,y_train)"
      ],
      "metadata": {
        "colab": {
          "base_uri": "https://localhost:8080/"
        },
        "id": "BiekFRlNoEii",
        "outputId": "cf14624f-8e4b-4c20-aaad-e6108c824ecb"
      },
      "execution_count": 2,
      "outputs": [
        {
          "output_type": "execute_result",
          "data": {
            "text/plain": [
              "DecisionTreeClassifier(random_state=0)"
            ]
          },
          "metadata": {},
          "execution_count": 2
        }
      ]
    },
    {
      "cell_type": "code",
      "source": [
        "#Checks for Overfitting(Performance on traning data higher than on test data)\n",
        "print(\"Accuracy on training set: {:3f.}\", tree.score(X_train,y_train))\n",
        "print(\"Accuracy on tests data:\",tree.score(X_test,y_test))"
      ],
      "metadata": {
        "colab": {
          "base_uri": "https://localhost:8080/"
        },
        "id": "N-1qZ9FAoEXg",
        "outputId": "63646a29-f33c-4d0c-98ca-d49c8648ec72"
      },
      "execution_count": 3,
      "outputs": [
        {
          "output_type": "stream",
          "name": "stdout",
          "text": [
            "Accuracy on training set: {:3f.} 1.0\n",
            "Accuracy on tests data: 0.9370629370629371\n"
          ]
        }
      ]
    },
    {
      "cell_type": "code",
      "source": [
        "tree2 = DecisionTreeClassifier(max_depth=4,random_state =0)\n",
        "tree2.fit(X_train,y_train)"
      ],
      "metadata": {
        "colab": {
          "base_uri": "https://localhost:8080/"
        },
        "id": "8SIrIkfCoS3C",
        "outputId": "8ded29c9-d101-4d52-8177-ba094803d615"
      },
      "execution_count": 4,
      "outputs": [
        {
          "output_type": "execute_result",
          "data": {
            "text/plain": [
              "DecisionTreeClassifier(max_depth=4, random_state=0)"
            ]
          },
          "metadata": {},
          "execution_count": 4
        }
      ]
    },
    {
      "cell_type": "code",
      "source": [
        "print(\"Accuracy on training set: {:3f.}\", tree2.score(X_train,y_train))\n",
        "print(\"Accuracy on tests data:\",tree2.score(X_test,y_test))"
      ],
      "metadata": {
        "colab": {
          "base_uri": "https://localhost:8080/"
        },
        "id": "w1MflxTKoUzK",
        "outputId": "ed834e79-8ec5-4714-c290-aafcf542890a"
      },
      "execution_count": 5,
      "outputs": [
        {
          "output_type": "stream",
          "name": "stdout",
          "text": [
            "Accuracy on training set: {:3f.} 0.9882629107981221\n",
            "Accuracy on tests data: 0.951048951048951\n"
          ]
        }
      ]
    },
    {
      "cell_type": "code",
      "execution_count": 20,
      "metadata": {
        "colab": {
          "base_uri": "https://localhost:8080/",
          "height": 1000
        },
        "id": "6RuLIns_m1zy",
        "outputId": "8647068a-4eee-49ec-c911-2bfa361c6dab"
      },
      "outputs": [
        {
          "output_type": "display_data",
          "data": {
            "text/plain": [
              "<graphviz.files.Source at 0x7f2d9dc65a10>"
            ],
            "image/svg+xml": "<?xml version=\"1.0\" encoding=\"UTF-8\" standalone=\"no\"?>\n<!DOCTYPE svg PUBLIC \"-//W3C//DTD SVG 1.1//EN\"\n \"http://www.w3.org/Graphics/SVG/1.1/DTD/svg11.dtd\">\n<!-- Generated by graphviz version 2.40.1 (20161225.0304)\n -->\n<!-- Title: Tree Pages: 1 -->\n<svg width=\"1533pt\" height=\"789pt\"\n viewBox=\"0.00 0.00 1532.50 789.00\" xmlns=\"http://www.w3.org/2000/svg\" xmlns:xlink=\"http://www.w3.org/1999/xlink\">\n<g id=\"graph0\" class=\"graph\" transform=\"scale(1 1) rotate(0) translate(4 785)\">\n<title>Tree</title>\n<polygon fill=\"#ffffff\" stroke=\"transparent\" points=\"-4,4 -4,-785 1528.5,-785 1528.5,4 -4,4\"/>\n<!-- 0 -->\n<g id=\"node1\" class=\"node\">\n<title>0</title>\n<polygon fill=\"#afd7f4\" stroke=\"#000000\" points=\"1100.5,-781 936.5,-781 936.5,-713 1100.5,-713 1100.5,-781\"/>\n<text text-anchor=\"middle\" x=\"1018.5\" y=\"-765.8\" font-family=\"Helvetica,sans-Serif\" font-size=\"14.00\" fill=\"#000000\">worst radius &lt;= 16.795</text>\n<text text-anchor=\"middle\" x=\"1018.5\" y=\"-750.8\" font-family=\"Helvetica,sans-Serif\" font-size=\"14.00\" fill=\"#000000\">samples = 426</text>\n<text text-anchor=\"middle\" x=\"1018.5\" y=\"-735.8\" font-family=\"Helvetica,sans-Serif\" font-size=\"14.00\" fill=\"#000000\">value = [159, 267]</text>\n<text text-anchor=\"middle\" x=\"1018.5\" y=\"-720.8\" font-family=\"Helvetica,sans-Serif\" font-size=\"14.00\" fill=\"#000000\">class = ben</text>\n</g>\n<!-- 1 -->\n<g id=\"node2\" class=\"node\">\n<title>1</title>\n<polygon fill=\"#4ca6e8\" stroke=\"#000000\" points=\"962.5,-677 748.5,-677 748.5,-609 962.5,-609 962.5,-677\"/>\n<text text-anchor=\"middle\" x=\"855.5\" y=\"-661.8\" font-family=\"Helvetica,sans-Serif\" font-size=\"14.00\" fill=\"#000000\">worst concave points &lt;= 0.136</text>\n<text text-anchor=\"middle\" x=\"855.5\" y=\"-646.8\" font-family=\"Helvetica,sans-Serif\" font-size=\"14.00\" fill=\"#000000\">samples = 284</text>\n<text text-anchor=\"middle\" x=\"855.5\" y=\"-631.8\" font-family=\"Helvetica,sans-Serif\" font-size=\"14.00\" fill=\"#000000\">value = [25, 259]</text>\n<text text-anchor=\"middle\" x=\"855.5\" y=\"-616.8\" font-family=\"Helvetica,sans-Serif\" font-size=\"14.00\" fill=\"#000000\">class = ben</text>\n</g>\n<!-- 0&#45;&gt;1 -->\n<g id=\"edge1\" class=\"edge\">\n<title>0&#45;&gt;1</title>\n<path fill=\"none\" stroke=\"#000000\" d=\"M965.1277,-712.9465C949.9298,-703.2497 933.2445,-692.6039 917.5763,-682.6069\"/>\n<polygon fill=\"#000000\" stroke=\"#000000\" points=\"919.305,-679.5582 908.9922,-677.13 915.5398,-685.4594 919.305,-679.5582\"/>\n<text text-anchor=\"middle\" x=\"914.3864\" y=\"-697.8411\" font-family=\"Helvetica,sans-Serif\" font-size=\"14.00\" fill=\"#000000\">True</text>\n</g>\n<!-- 28 -->\n<g id=\"node29\" class=\"node\">\n<title>28</title>\n<polygon fill=\"#e78945\" stroke=\"#000000\" points=\"1166,-677 1011,-677 1011,-609 1166,-609 1166,-677\"/>\n<text text-anchor=\"middle\" x=\"1088.5\" y=\"-661.8\" font-family=\"Helvetica,sans-Serif\" font-size=\"14.00\" fill=\"#000000\">texture error &lt;= 0.473</text>\n<text text-anchor=\"middle\" x=\"1088.5\" y=\"-646.8\" font-family=\"Helvetica,sans-Serif\" font-size=\"14.00\" fill=\"#000000\">samples = 142</text>\n<text text-anchor=\"middle\" x=\"1088.5\" y=\"-631.8\" font-family=\"Helvetica,sans-Serif\" font-size=\"14.00\" fill=\"#000000\">value = [134, 8]</text>\n<text text-anchor=\"middle\" x=\"1088.5\" y=\"-616.8\" font-family=\"Helvetica,sans-Serif\" font-size=\"14.00\" fill=\"#000000\">class = mal</text>\n</g>\n<!-- 0&#45;&gt;28 -->\n<g id=\"edge28\" class=\"edge\">\n<title>0&#45;&gt;28</title>\n<path fill=\"none\" stroke=\"#000000\" d=\"M1041.4206,-712.9465C1047.2826,-704.2373 1053.6598,-694.7626 1059.773,-685.6801\"/>\n<polygon fill=\"#000000\" stroke=\"#000000\" points=\"1062.8476,-687.3802 1065.5279,-677.13 1057.0405,-683.4716 1062.8476,-687.3802\"/>\n<text text-anchor=\"middle\" x=\"1070.3223\" y=\"-697.966\" font-family=\"Helvetica,sans-Serif\" font-size=\"14.00\" fill=\"#000000\">False</text>\n</g>\n<!-- 2 -->\n<g id=\"node3\" class=\"node\">\n<title>2</title>\n<polygon fill=\"#3c9fe5\" stroke=\"#000000\" points=\"678,-573 527,-573 527,-505 678,-505 678,-573\"/>\n<text text-anchor=\"middle\" x=\"602.5\" y=\"-557.8\" font-family=\"Helvetica,sans-Serif\" font-size=\"14.00\" fill=\"#000000\">radius error &lt;= 1.048</text>\n<text text-anchor=\"middle\" x=\"602.5\" y=\"-542.8\" font-family=\"Helvetica,sans-Serif\" font-size=\"14.00\" fill=\"#000000\">samples = 252</text>\n<text text-anchor=\"middle\" x=\"602.5\" y=\"-527.8\" font-family=\"Helvetica,sans-Serif\" font-size=\"14.00\" fill=\"#000000\">value = [4, 248]</text>\n<text text-anchor=\"middle\" x=\"602.5\" y=\"-512.8\" font-family=\"Helvetica,sans-Serif\" font-size=\"14.00\" fill=\"#000000\">class = ben</text>\n</g>\n<!-- 1&#45;&gt;2 -->\n<g id=\"edge2\" class=\"edge\">\n<title>1&#45;&gt;2</title>\n<path fill=\"none\" stroke=\"#000000\" d=\"M772.6583,-608.9465C745.4577,-597.7652 715.1875,-585.3221 687.8074,-574.0671\"/>\n<polygon fill=\"#000000\" stroke=\"#000000\" points=\"688.8328,-570.7044 678.253,-570.1396 686.1714,-577.1788 688.8328,-570.7044\"/>\n</g>\n<!-- 17 -->\n<g id=\"node18\" class=\"node\">\n<title>17</title>\n<polygon fill=\"#f3c3a1\" stroke=\"#000000\" points=\"935.5,-573 775.5,-573 775.5,-505 935.5,-505 935.5,-573\"/>\n<text text-anchor=\"middle\" x=\"855.5\" y=\"-557.8\" font-family=\"Helvetica,sans-Serif\" font-size=\"14.00\" fill=\"#000000\">worst texture &lt;= 25.62</text>\n<text text-anchor=\"middle\" x=\"855.5\" y=\"-542.8\" font-family=\"Helvetica,sans-Serif\" font-size=\"14.00\" fill=\"#000000\">samples = 32</text>\n<text text-anchor=\"middle\" x=\"855.5\" y=\"-527.8\" font-family=\"Helvetica,sans-Serif\" font-size=\"14.00\" fill=\"#000000\">value = [21, 11]</text>\n<text text-anchor=\"middle\" x=\"855.5\" y=\"-512.8\" font-family=\"Helvetica,sans-Serif\" font-size=\"14.00\" fill=\"#000000\">class = mal</text>\n</g>\n<!-- 1&#45;&gt;17 -->\n<g id=\"edge17\" class=\"edge\">\n<title>1&#45;&gt;17</title>\n<path fill=\"none\" stroke=\"#000000\" d=\"M855.5,-608.9465C855.5,-600.776 855.5,-591.9318 855.5,-583.3697\"/>\n<polygon fill=\"#000000\" stroke=\"#000000\" points=\"859.0001,-583.13 855.5,-573.13 852.0001,-583.13 859.0001,-583.13\"/>\n</g>\n<!-- 3 -->\n<g id=\"node4\" class=\"node\">\n<title>3</title>\n<polygon fill=\"#3b9ee5\" stroke=\"#000000\" points=\"463,-469 272,-469 272,-401 463,-401 463,-469\"/>\n<text text-anchor=\"middle\" x=\"367.5\" y=\"-453.8\" font-family=\"Helvetica,sans-Serif\" font-size=\"14.00\" fill=\"#000000\">smoothness error &lt;= 0.003</text>\n<text text-anchor=\"middle\" x=\"367.5\" y=\"-438.8\" font-family=\"Helvetica,sans-Serif\" font-size=\"14.00\" fill=\"#000000\">samples = 251</text>\n<text text-anchor=\"middle\" x=\"367.5\" y=\"-423.8\" font-family=\"Helvetica,sans-Serif\" font-size=\"14.00\" fill=\"#000000\">value = [3, 248]</text>\n<text text-anchor=\"middle\" x=\"367.5\" y=\"-408.8\" font-family=\"Helvetica,sans-Serif\" font-size=\"14.00\" fill=\"#000000\">class = ben</text>\n</g>\n<!-- 2&#45;&gt;3 -->\n<g id=\"edge3\" class=\"edge\">\n<title>2&#45;&gt;3</title>\n<path fill=\"none\" stroke=\"#000000\" d=\"M526.851,-505.5213C503.6344,-495.2467 477.9103,-483.8624 454.0251,-473.292\"/>\n<polygon fill=\"#000000\" stroke=\"#000000\" points=\"455.1816,-469.9764 444.6207,-469.13 452.3487,-476.3776 455.1816,-469.9764\"/>\n</g>\n<!-- 16 -->\n<g id=\"node17\" class=\"node\">\n<title>16</title>\n<polygon fill=\"#e58139\" stroke=\"#000000\" points=\"652,-461.5 553,-461.5 553,-408.5 652,-408.5 652,-461.5\"/>\n<text text-anchor=\"middle\" x=\"602.5\" y=\"-446.3\" font-family=\"Helvetica,sans-Serif\" font-size=\"14.00\" fill=\"#000000\">samples = 1</text>\n<text text-anchor=\"middle\" x=\"602.5\" y=\"-431.3\" font-family=\"Helvetica,sans-Serif\" font-size=\"14.00\" fill=\"#000000\">value = [1, 0]</text>\n<text text-anchor=\"middle\" x=\"602.5\" y=\"-416.3\" font-family=\"Helvetica,sans-Serif\" font-size=\"14.00\" fill=\"#000000\">class = mal</text>\n</g>\n<!-- 2&#45;&gt;16 -->\n<g id=\"edge16\" class=\"edge\">\n<title>2&#45;&gt;16</title>\n<path fill=\"none\" stroke=\"#000000\" d=\"M602.5,-504.9465C602.5,-494.2621 602.5,-482.4254 602.5,-471.5742\"/>\n<polygon fill=\"#000000\" stroke=\"#000000\" points=\"606.0001,-471.5421 602.5,-461.5422 599.0001,-471.5422 606.0001,-471.5421\"/>\n</g>\n<!-- 4 -->\n<g id=\"node5\" class=\"node\">\n<title>4</title>\n<polygon fill=\"#7bbeee\" stroke=\"#000000\" points=\"243.5,-365 89.5,-365 89.5,-297 243.5,-297 243.5,-365\"/>\n<text text-anchor=\"middle\" x=\"166.5\" y=\"-349.8\" font-family=\"Helvetica,sans-Serif\" font-size=\"14.00\" fill=\"#000000\">mean texture &lt;= 19.9</text>\n<text text-anchor=\"middle\" x=\"166.5\" y=\"-334.8\" font-family=\"Helvetica,sans-Serif\" font-size=\"14.00\" fill=\"#000000\">samples = 4</text>\n<text text-anchor=\"middle\" x=\"166.5\" y=\"-319.8\" font-family=\"Helvetica,sans-Serif\" font-size=\"14.00\" fill=\"#000000\">value = [1, 3]</text>\n<text text-anchor=\"middle\" x=\"166.5\" y=\"-304.8\" font-family=\"Helvetica,sans-Serif\" font-size=\"14.00\" fill=\"#000000\">class = ben</text>\n</g>\n<!-- 3&#45;&gt;4 -->\n<g id=\"edge4\" class=\"edge\">\n<title>3&#45;&gt;4</title>\n<path fill=\"none\" stroke=\"#000000\" d=\"M301.6851,-400.9465C282.4235,-390.9803 261.2245,-380.0117 241.4409,-369.7754\"/>\n<polygon fill=\"#000000\" stroke=\"#000000\" points=\"242.9528,-366.6169 232.4628,-365.13 239.7359,-372.834 242.9528,-366.6169\"/>\n</g>\n<!-- 7 -->\n<g id=\"node8\" class=\"node\">\n<title>7</title>\n<polygon fill=\"#3b9ee5\" stroke=\"#000000\" points=\"433.5,-365 301.5,-365 301.5,-297 433.5,-297 433.5,-365\"/>\n<text text-anchor=\"middle\" x=\"367.5\" y=\"-349.8\" font-family=\"Helvetica,sans-Serif\" font-size=\"14.00\" fill=\"#000000\">area error &lt;= 48.7</text>\n<text text-anchor=\"middle\" x=\"367.5\" y=\"-334.8\" font-family=\"Helvetica,sans-Serif\" font-size=\"14.00\" fill=\"#000000\">samples = 247</text>\n<text text-anchor=\"middle\" x=\"367.5\" y=\"-319.8\" font-family=\"Helvetica,sans-Serif\" font-size=\"14.00\" fill=\"#000000\">value = [2, 245]</text>\n<text text-anchor=\"middle\" x=\"367.5\" y=\"-304.8\" font-family=\"Helvetica,sans-Serif\" font-size=\"14.00\" fill=\"#000000\">class = ben</text>\n</g>\n<!-- 3&#45;&gt;7 -->\n<g id=\"edge7\" class=\"edge\">\n<title>3&#45;&gt;7</title>\n<path fill=\"none\" stroke=\"#000000\" d=\"M367.5,-400.9465C367.5,-392.776 367.5,-383.9318 367.5,-375.3697\"/>\n<polygon fill=\"#000000\" stroke=\"#000000\" points=\"371.0001,-375.13 367.5,-365.13 364.0001,-375.13 371.0001,-375.13\"/>\n</g>\n<!-- 5 -->\n<g id=\"node6\" class=\"node\">\n<title>5</title>\n<polygon fill=\"#399de5\" stroke=\"#000000\" points=\"99,-253.5 0,-253.5 0,-200.5 99,-200.5 99,-253.5\"/>\n<text text-anchor=\"middle\" x=\"49.5\" y=\"-238.3\" font-family=\"Helvetica,sans-Serif\" font-size=\"14.00\" fill=\"#000000\">samples = 3</text>\n<text text-anchor=\"middle\" x=\"49.5\" y=\"-223.3\" font-family=\"Helvetica,sans-Serif\" font-size=\"14.00\" fill=\"#000000\">value = [0, 3]</text>\n<text text-anchor=\"middle\" x=\"49.5\" y=\"-208.3\" font-family=\"Helvetica,sans-Serif\" font-size=\"14.00\" fill=\"#000000\">class = ben</text>\n</g>\n<!-- 4&#45;&gt;5 -->\n<g id=\"edge5\" class=\"edge\">\n<title>4&#45;&gt;5</title>\n<path fill=\"none\" stroke=\"#000000\" d=\"M128.1898,-296.9465C114.9306,-285.1606 100.0942,-271.9726 86.9084,-260.2519\"/>\n<polygon fill=\"#000000\" stroke=\"#000000\" points=\"89.1593,-257.5699 79.3599,-253.5422 84.5088,-262.8018 89.1593,-257.5699\"/>\n</g>\n<!-- 6 -->\n<g id=\"node7\" class=\"node\">\n<title>6</title>\n<polygon fill=\"#e58139\" stroke=\"#000000\" points=\"216,-253.5 117,-253.5 117,-200.5 216,-200.5 216,-253.5\"/>\n<text text-anchor=\"middle\" x=\"166.5\" y=\"-238.3\" font-family=\"Helvetica,sans-Serif\" font-size=\"14.00\" fill=\"#000000\">samples = 1</text>\n<text text-anchor=\"middle\" x=\"166.5\" y=\"-223.3\" font-family=\"Helvetica,sans-Serif\" font-size=\"14.00\" fill=\"#000000\">value = [1, 0]</text>\n<text text-anchor=\"middle\" x=\"166.5\" y=\"-208.3\" font-family=\"Helvetica,sans-Serif\" font-size=\"14.00\" fill=\"#000000\">class = mal</text>\n</g>\n<!-- 4&#45;&gt;6 -->\n<g id=\"edge6\" class=\"edge\">\n<title>4&#45;&gt;6</title>\n<path fill=\"none\" stroke=\"#000000\" d=\"M166.5,-296.9465C166.5,-286.2621 166.5,-274.4254 166.5,-263.5742\"/>\n<polygon fill=\"#000000\" stroke=\"#000000\" points=\"170.0001,-263.5421 166.5,-253.5422 163.0001,-263.5422 170.0001,-263.5421\"/>\n</g>\n<!-- 8 -->\n<g id=\"node9\" class=\"node\">\n<title>8</title>\n<polygon fill=\"#3a9de5\" stroke=\"#000000\" points=\"394.5,-261 234.5,-261 234.5,-193 394.5,-193 394.5,-261\"/>\n<text text-anchor=\"middle\" x=\"314.5\" y=\"-245.8\" font-family=\"Helvetica,sans-Serif\" font-size=\"14.00\" fill=\"#000000\">worst texture &lt;= 33.35</text>\n<text text-anchor=\"middle\" x=\"314.5\" y=\"-230.8\" font-family=\"Helvetica,sans-Serif\" font-size=\"14.00\" fill=\"#000000\">samples = 243</text>\n<text text-anchor=\"middle\" x=\"314.5\" y=\"-215.8\" font-family=\"Helvetica,sans-Serif\" font-size=\"14.00\" fill=\"#000000\">value = [1, 242]</text>\n<text text-anchor=\"middle\" x=\"314.5\" y=\"-200.8\" font-family=\"Helvetica,sans-Serif\" font-size=\"14.00\" fill=\"#000000\">class = ben</text>\n</g>\n<!-- 7&#45;&gt;8 -->\n<g id=\"edge8\" class=\"edge\">\n<title>7&#45;&gt;8</title>\n<path fill=\"none\" stroke=\"#000000\" d=\"M350.1458,-296.9465C345.799,-288.4169 341.078,-279.153 336.537,-270.2424\"/>\n<polygon fill=\"#000000\" stroke=\"#000000\" points=\"339.5522,-268.4505 331.8932,-261.13 333.3154,-271.629 339.5522,-268.4505\"/>\n</g>\n<!-- 13 -->\n<g id=\"node14\" class=\"node\">\n<title>13</title>\n<polygon fill=\"#7bbeee\" stroke=\"#000000\" points=\"592,-261 413,-261 413,-193 592,-193 592,-261\"/>\n<text text-anchor=\"middle\" x=\"502.5\" y=\"-245.8\" font-family=\"Helvetica,sans-Serif\" font-size=\"14.00\" fill=\"#000000\">mean concavity &lt;= 0.029</text>\n<text text-anchor=\"middle\" x=\"502.5\" y=\"-230.8\" font-family=\"Helvetica,sans-Serif\" font-size=\"14.00\" fill=\"#000000\">samples = 4</text>\n<text text-anchor=\"middle\" x=\"502.5\" y=\"-215.8\" font-family=\"Helvetica,sans-Serif\" font-size=\"14.00\" fill=\"#000000\">value = [1, 3]</text>\n<text text-anchor=\"middle\" x=\"502.5\" y=\"-200.8\" font-family=\"Helvetica,sans-Serif\" font-size=\"14.00\" fill=\"#000000\">class = ben</text>\n</g>\n<!-- 7&#45;&gt;13 -->\n<g id=\"edge13\" class=\"edge\">\n<title>7&#45;&gt;13</title>\n<path fill=\"none\" stroke=\"#000000\" d=\"M411.704,-296.9465C423.9416,-287.519 437.3436,-277.1946 450.0038,-267.4415\"/>\n<polygon fill=\"#000000\" stroke=\"#000000\" points=\"452.4107,-270.0055 458.1966,-261.13 448.1388,-264.4601 452.4107,-270.0055\"/>\n</g>\n<!-- 9 -->\n<g id=\"node10\" class=\"node\">\n<title>9</title>\n<polygon fill=\"#399de5\" stroke=\"#000000\" points=\"231.5,-149.5 115.5,-149.5 115.5,-96.5 231.5,-96.5 231.5,-149.5\"/>\n<text text-anchor=\"middle\" x=\"173.5\" y=\"-134.3\" font-family=\"Helvetica,sans-Serif\" font-size=\"14.00\" fill=\"#000000\">samples = 225</text>\n<text text-anchor=\"middle\" x=\"173.5\" y=\"-119.3\" font-family=\"Helvetica,sans-Serif\" font-size=\"14.00\" fill=\"#000000\">value = [0, 225]</text>\n<text text-anchor=\"middle\" x=\"173.5\" y=\"-104.3\" font-family=\"Helvetica,sans-Serif\" font-size=\"14.00\" fill=\"#000000\">class = ben</text>\n</g>\n<!-- 8&#45;&gt;9 -->\n<g id=\"edge9\" class=\"edge\">\n<title>8&#45;&gt;9</title>\n<path fill=\"none\" stroke=\"#000000\" d=\"M268.3313,-192.9465C252.0536,-180.9403 233.8035,-167.4791 217.693,-155.5962\"/>\n<polygon fill=\"#000000\" stroke=\"#000000\" points=\"219.6103,-152.6614 209.485,-149.5422 215.4552,-158.2948 219.6103,-152.6614\"/>\n</g>\n<!-- 10 -->\n<g id=\"node11\" class=\"node\">\n<title>10</title>\n<polygon fill=\"#45a3e7\" stroke=\"#000000\" points=\"401.5,-157 249.5,-157 249.5,-89 401.5,-89 401.5,-157\"/>\n<text text-anchor=\"middle\" x=\"325.5\" y=\"-141.8\" font-family=\"Helvetica,sans-Serif\" font-size=\"14.00\" fill=\"#000000\">worst texture &lt;= 33.8</text>\n<text text-anchor=\"middle\" x=\"325.5\" y=\"-126.8\" font-family=\"Helvetica,sans-Serif\" font-size=\"14.00\" fill=\"#000000\">samples = 18</text>\n<text text-anchor=\"middle\" x=\"325.5\" y=\"-111.8\" font-family=\"Helvetica,sans-Serif\" font-size=\"14.00\" fill=\"#000000\">value = [1, 17]</text>\n<text text-anchor=\"middle\" x=\"325.5\" y=\"-96.8\" font-family=\"Helvetica,sans-Serif\" font-size=\"14.00\" fill=\"#000000\">class = ben</text>\n</g>\n<!-- 8&#45;&gt;10 -->\n<g id=\"edge10\" class=\"edge\">\n<title>8&#45;&gt;10</title>\n<path fill=\"none\" stroke=\"#000000\" d=\"M318.1018,-192.9465C318.9755,-184.6863 319.922,-175.7374 320.8369,-167.0875\"/>\n<polygon fill=\"#000000\" stroke=\"#000000\" points=\"324.3188,-167.4427 321.8901,-157.13 317.3576,-166.7064 324.3188,-167.4427\"/>\n</g>\n<!-- 11 -->\n<g id=\"node12\" class=\"node\">\n<title>11</title>\n<polygon fill=\"#e58139\" stroke=\"#000000\" points=\"314,-53 215,-53 215,0 314,0 314,-53\"/>\n<text text-anchor=\"middle\" x=\"264.5\" y=\"-37.8\" font-family=\"Helvetica,sans-Serif\" font-size=\"14.00\" fill=\"#000000\">samples = 1</text>\n<text text-anchor=\"middle\" x=\"264.5\" y=\"-22.8\" font-family=\"Helvetica,sans-Serif\" font-size=\"14.00\" fill=\"#000000\">value = [1, 0]</text>\n<text text-anchor=\"middle\" x=\"264.5\" y=\"-7.8\" font-family=\"Helvetica,sans-Serif\" font-size=\"14.00\" fill=\"#000000\">class = mal</text>\n</g>\n<!-- 10&#45;&gt;11 -->\n<g id=\"edge11\" class=\"edge\">\n<title>10&#45;&gt;11</title>\n<path fill=\"none\" stroke=\"#000000\" d=\"M303.9937,-88.9777C298.4369,-80.187 292.4427,-70.7044 286.8441,-61.8477\"/>\n<polygon fill=\"#000000\" stroke=\"#000000\" points=\"289.7101,-59.8312 281.4084,-53.2485 283.7931,-63.5714 289.7101,-59.8312\"/>\n</g>\n<!-- 12 -->\n<g id=\"node13\" class=\"node\">\n<title>12</title>\n<polygon fill=\"#399de5\" stroke=\"#000000\" points=\"439,-53 332,-53 332,0 439,0 439,-53\"/>\n<text text-anchor=\"middle\" x=\"385.5\" y=\"-37.8\" font-family=\"Helvetica,sans-Serif\" font-size=\"14.00\" fill=\"#000000\">samples = 17</text>\n<text text-anchor=\"middle\" x=\"385.5\" y=\"-22.8\" font-family=\"Helvetica,sans-Serif\" font-size=\"14.00\" fill=\"#000000\">value = [0, 17]</text>\n<text text-anchor=\"middle\" x=\"385.5\" y=\"-7.8\" font-family=\"Helvetica,sans-Serif\" font-size=\"14.00\" fill=\"#000000\">class = ben</text>\n</g>\n<!-- 10&#45;&gt;12 -->\n<g id=\"edge12\" class=\"edge\">\n<title>10&#45;&gt;12</title>\n<path fill=\"none\" stroke=\"#000000\" d=\"M346.6538,-88.9777C352.1195,-80.187 358.0154,-70.7044 363.5222,-61.8477\"/>\n<polygon fill=\"#000000\" stroke=\"#000000\" points=\"366.5609,-63.5889 368.8688,-53.2485 360.6163,-59.8927 366.5609,-63.5889\"/>\n</g>\n<!-- 14 -->\n<g id=\"node15\" class=\"node\">\n<title>14</title>\n<polygon fill=\"#e58139\" stroke=\"#000000\" points=\"541,-149.5 442,-149.5 442,-96.5 541,-96.5 541,-149.5\"/>\n<text text-anchor=\"middle\" x=\"491.5\" y=\"-134.3\" font-family=\"Helvetica,sans-Serif\" font-size=\"14.00\" fill=\"#000000\">samples = 1</text>\n<text text-anchor=\"middle\" x=\"491.5\" y=\"-119.3\" font-family=\"Helvetica,sans-Serif\" font-size=\"14.00\" fill=\"#000000\">value = [1, 0]</text>\n<text text-anchor=\"middle\" x=\"491.5\" y=\"-104.3\" font-family=\"Helvetica,sans-Serif\" font-size=\"14.00\" fill=\"#000000\">class = mal</text>\n</g>\n<!-- 13&#45;&gt;14 -->\n<g id=\"edge14\" class=\"edge\">\n<title>13&#45;&gt;14</title>\n<path fill=\"none\" stroke=\"#000000\" d=\"M498.8982,-192.9465C497.7681,-182.2621 496.5162,-170.4254 495.3684,-159.5742\"/>\n<polygon fill=\"#000000\" stroke=\"#000000\" points=\"498.8398,-159.1185 494.3073,-149.5422 491.8787,-159.8549 498.8398,-159.1185\"/>\n</g>\n<!-- 15 -->\n<g id=\"node16\" class=\"node\">\n<title>15</title>\n<polygon fill=\"#399de5\" stroke=\"#000000\" points=\"658,-149.5 559,-149.5 559,-96.5 658,-96.5 658,-149.5\"/>\n<text text-anchor=\"middle\" x=\"608.5\" y=\"-134.3\" font-family=\"Helvetica,sans-Serif\" font-size=\"14.00\" fill=\"#000000\">samples = 3</text>\n<text text-anchor=\"middle\" x=\"608.5\" y=\"-119.3\" font-family=\"Helvetica,sans-Serif\" font-size=\"14.00\" fill=\"#000000\">value = [0, 3]</text>\n<text text-anchor=\"middle\" x=\"608.5\" y=\"-104.3\" font-family=\"Helvetica,sans-Serif\" font-size=\"14.00\" fill=\"#000000\">class = ben</text>\n</g>\n<!-- 13&#45;&gt;15 -->\n<g id=\"edge15\" class=\"edge\">\n<title>13&#45;&gt;15</title>\n<path fill=\"none\" stroke=\"#000000\" d=\"M537.2084,-192.9465C549.1087,-181.2707 562.4114,-168.219 574.2733,-156.5809\"/>\n<polygon fill=\"#000000\" stroke=\"#000000\" points=\"576.7605,-159.0439 581.4474,-149.5422 571.8581,-154.0473 576.7605,-159.0439\"/>\n</g>\n<!-- 18 -->\n<g id=\"node19\" class=\"node\">\n<title>18</title>\n<polygon fill=\"#7bbeee\" stroke=\"#000000\" points=\"897,-469 752,-469 752,-401 897,-401 897,-469\"/>\n<text text-anchor=\"middle\" x=\"824.5\" y=\"-453.8\" font-family=\"Helvetica,sans-Serif\" font-size=\"14.00\" fill=\"#000000\">worst area &lt;= 817.1</text>\n<text text-anchor=\"middle\" x=\"824.5\" y=\"-438.8\" font-family=\"Helvetica,sans-Serif\" font-size=\"14.00\" fill=\"#000000\">samples = 12</text>\n<text text-anchor=\"middle\" x=\"824.5\" y=\"-423.8\" font-family=\"Helvetica,sans-Serif\" font-size=\"14.00\" fill=\"#000000\">value = [3, 9]</text>\n<text text-anchor=\"middle\" x=\"824.5\" y=\"-408.8\" font-family=\"Helvetica,sans-Serif\" font-size=\"14.00\" fill=\"#000000\">class = ben</text>\n</g>\n<!-- 17&#45;&gt;18 -->\n<g id=\"edge18\" class=\"edge\">\n<title>17&#45;&gt;18</title>\n<path fill=\"none\" stroke=\"#000000\" d=\"M845.3494,-504.9465C842.8605,-496.5965 840.1618,-487.5427 837.5574,-478.8056\"/>\n<polygon fill=\"#000000\" stroke=\"#000000\" points=\"840.8842,-477.7135 834.6734,-469.13 834.1758,-479.7131 840.8842,-477.7135\"/>\n</g>\n<!-- 23 -->\n<g id=\"node24\" class=\"node\">\n<title>23</title>\n<polygon fill=\"#e88f4f\" stroke=\"#000000\" points=\"1094,-469 915,-469 915,-401 1094,-401 1094,-469\"/>\n<text text-anchor=\"middle\" x=\"1004.5\" y=\"-453.8\" font-family=\"Helvetica,sans-Serif\" font-size=\"14.00\" fill=\"#000000\">worst symmetry &lt;= 0.268</text>\n<text text-anchor=\"middle\" x=\"1004.5\" y=\"-438.8\" font-family=\"Helvetica,sans-Serif\" font-size=\"14.00\" fill=\"#000000\">samples = 20</text>\n<text text-anchor=\"middle\" x=\"1004.5\" y=\"-423.8\" font-family=\"Helvetica,sans-Serif\" font-size=\"14.00\" fill=\"#000000\">value = [18, 2]</text>\n<text text-anchor=\"middle\" x=\"1004.5\" y=\"-408.8\" font-family=\"Helvetica,sans-Serif\" font-size=\"14.00\" fill=\"#000000\">class = mal</text>\n</g>\n<!-- 17&#45;&gt;23 -->\n<g id=\"edge23\" class=\"edge\">\n<title>17&#45;&gt;23</title>\n<path fill=\"none\" stroke=\"#000000\" d=\"M904.2882,-504.9465C918.0521,-495.3395 933.1506,-484.8009 947.3574,-474.8848\"/>\n<polygon fill=\"#000000\" stroke=\"#000000\" points=\"949.4054,-477.7236 955.6022,-469.13 945.3989,-471.9835 949.4054,-477.7236\"/>\n</g>\n<!-- 19 -->\n<g id=\"node20\" class=\"node\">\n<title>19</title>\n<polygon fill=\"#4fa8e8\" stroke=\"#000000\" points=\"758,-365 561,-365 561,-297 758,-297 758,-365\"/>\n<text text-anchor=\"middle\" x=\"659.5\" y=\"-349.8\" font-family=\"Helvetica,sans-Serif\" font-size=\"14.00\" fill=\"#000000\">mean smoothness &lt;= 0.123</text>\n<text text-anchor=\"middle\" x=\"659.5\" y=\"-334.8\" font-family=\"Helvetica,sans-Serif\" font-size=\"14.00\" fill=\"#000000\">samples = 10</text>\n<text text-anchor=\"middle\" x=\"659.5\" y=\"-319.8\" font-family=\"Helvetica,sans-Serif\" font-size=\"14.00\" fill=\"#000000\">value = [1, 9]</text>\n<text text-anchor=\"middle\" x=\"659.5\" y=\"-304.8\" font-family=\"Helvetica,sans-Serif\" font-size=\"14.00\" fill=\"#000000\">class = ben</text>\n</g>\n<!-- 18&#45;&gt;19 -->\n<g id=\"edge19\" class=\"edge\">\n<title>18&#45;&gt;19</title>\n<path fill=\"none\" stroke=\"#000000\" d=\"M770.4728,-400.9465C755.0885,-391.2497 738.1984,-380.6039 722.3379,-370.6069\"/>\n<polygon fill=\"#000000\" stroke=\"#000000\" points=\"723.9746,-367.5013 713.6486,-365.13 720.242,-373.4232 723.9746,-367.5013\"/>\n</g>\n<!-- 22 -->\n<g id=\"node23\" class=\"node\">\n<title>22</title>\n<polygon fill=\"#e58139\" stroke=\"#000000\" points=\"875,-357.5 776,-357.5 776,-304.5 875,-304.5 875,-357.5\"/>\n<text text-anchor=\"middle\" x=\"825.5\" y=\"-342.3\" font-family=\"Helvetica,sans-Serif\" font-size=\"14.00\" fill=\"#000000\">samples = 2</text>\n<text text-anchor=\"middle\" x=\"825.5\" y=\"-327.3\" font-family=\"Helvetica,sans-Serif\" font-size=\"14.00\" fill=\"#000000\">value = [2, 0]</text>\n<text text-anchor=\"middle\" x=\"825.5\" y=\"-312.3\" font-family=\"Helvetica,sans-Serif\" font-size=\"14.00\" fill=\"#000000\">class = mal</text>\n</g>\n<!-- 18&#45;&gt;22 -->\n<g id=\"edge22\" class=\"edge\">\n<title>18&#45;&gt;22</title>\n<path fill=\"none\" stroke=\"#000000\" d=\"M824.8274,-400.9465C824.9302,-390.2621 825.044,-378.4254 825.1483,-367.5742\"/>\n<polygon fill=\"#000000\" stroke=\"#000000\" points=\"828.6484,-367.5754 825.2448,-357.5422 821.6487,-367.508 828.6484,-367.5754\"/>\n</g>\n<!-- 20 -->\n<g id=\"node21\" class=\"node\">\n<title>20</title>\n<polygon fill=\"#399de5\" stroke=\"#000000\" points=\"709,-253.5 610,-253.5 610,-200.5 709,-200.5 709,-253.5\"/>\n<text text-anchor=\"middle\" x=\"659.5\" y=\"-238.3\" font-family=\"Helvetica,sans-Serif\" font-size=\"14.00\" fill=\"#000000\">samples = 9</text>\n<text text-anchor=\"middle\" x=\"659.5\" y=\"-223.3\" font-family=\"Helvetica,sans-Serif\" font-size=\"14.00\" fill=\"#000000\">value = [0, 9]</text>\n<text text-anchor=\"middle\" x=\"659.5\" y=\"-208.3\" font-family=\"Helvetica,sans-Serif\" font-size=\"14.00\" fill=\"#000000\">class = ben</text>\n</g>\n<!-- 19&#45;&gt;20 -->\n<g id=\"edge20\" class=\"edge\">\n<title>19&#45;&gt;20</title>\n<path fill=\"none\" stroke=\"#000000\" d=\"M659.5,-296.9465C659.5,-286.2621 659.5,-274.4254 659.5,-263.5742\"/>\n<polygon fill=\"#000000\" stroke=\"#000000\" points=\"663.0001,-263.5421 659.5,-253.5422 656.0001,-263.5422 663.0001,-263.5421\"/>\n</g>\n<!-- 21 -->\n<g id=\"node22\" class=\"node\">\n<title>21</title>\n<polygon fill=\"#e58139\" stroke=\"#000000\" points=\"826,-253.5 727,-253.5 727,-200.5 826,-200.5 826,-253.5\"/>\n<text text-anchor=\"middle\" x=\"776.5\" y=\"-238.3\" font-family=\"Helvetica,sans-Serif\" font-size=\"14.00\" fill=\"#000000\">samples = 1</text>\n<text text-anchor=\"middle\" x=\"776.5\" y=\"-223.3\" font-family=\"Helvetica,sans-Serif\" font-size=\"14.00\" fill=\"#000000\">value = [1, 0]</text>\n<text text-anchor=\"middle\" x=\"776.5\" y=\"-208.3\" font-family=\"Helvetica,sans-Serif\" font-size=\"14.00\" fill=\"#000000\">class = mal</text>\n</g>\n<!-- 19&#45;&gt;21 -->\n<g id=\"edge21\" class=\"edge\">\n<title>19&#45;&gt;21</title>\n<path fill=\"none\" stroke=\"#000000\" d=\"M697.8102,-296.9465C711.0694,-285.1606 725.9058,-271.9726 739.0916,-260.2519\"/>\n<polygon fill=\"#000000\" stroke=\"#000000\" points=\"741.4912,-262.8018 746.6401,-253.5422 736.8407,-257.5699 741.4912,-262.8018\"/>\n</g>\n<!-- 24 -->\n<g id=\"node25\" class=\"node\">\n<title>24</title>\n<polygon fill=\"#9ccef2\" stroke=\"#000000\" points=\"1114,-365 893,-365 893,-297 1114,-297 1114,-365\"/>\n<text text-anchor=\"middle\" x=\"1003.5\" y=\"-349.8\" font-family=\"Helvetica,sans-Serif\" font-size=\"14.00\" fill=\"#000000\">fractal dimension error &lt;= 0.002</text>\n<text text-anchor=\"middle\" x=\"1003.5\" y=\"-334.8\" font-family=\"Helvetica,sans-Serif\" font-size=\"14.00\" fill=\"#000000\">samples = 3</text>\n<text text-anchor=\"middle\" x=\"1003.5\" y=\"-319.8\" font-family=\"Helvetica,sans-Serif\" font-size=\"14.00\" fill=\"#000000\">value = [1, 2]</text>\n<text text-anchor=\"middle\" x=\"1003.5\" y=\"-304.8\" font-family=\"Helvetica,sans-Serif\" font-size=\"14.00\" fill=\"#000000\">class = ben</text>\n</g>\n<!-- 23&#45;&gt;24 -->\n<g id=\"edge24\" class=\"edge\">\n<title>23&#45;&gt;24</title>\n<path fill=\"none\" stroke=\"#000000\" d=\"M1004.1726,-400.9465C1004.094,-392.776 1004.009,-383.9318 1003.9266,-375.3697\"/>\n<polygon fill=\"#000000\" stroke=\"#000000\" points=\"1007.4243,-375.0958 1003.8282,-365.13 1000.4246,-375.1632 1007.4243,-375.0958\"/>\n</g>\n<!-- 27 -->\n<g id=\"node28\" class=\"node\">\n<title>27</title>\n<polygon fill=\"#e58139\" stroke=\"#000000\" points=\"1239,-357.5 1132,-357.5 1132,-304.5 1239,-304.5 1239,-357.5\"/>\n<text text-anchor=\"middle\" x=\"1185.5\" y=\"-342.3\" font-family=\"Helvetica,sans-Serif\" font-size=\"14.00\" fill=\"#000000\">samples = 17</text>\n<text text-anchor=\"middle\" x=\"1185.5\" y=\"-327.3\" font-family=\"Helvetica,sans-Serif\" font-size=\"14.00\" fill=\"#000000\">value = [17, 0]</text>\n<text text-anchor=\"middle\" x=\"1185.5\" y=\"-312.3\" font-family=\"Helvetica,sans-Serif\" font-size=\"14.00\" fill=\"#000000\">class = mal</text>\n</g>\n<!-- 23&#45;&gt;27 -->\n<g id=\"edge27\" class=\"edge\">\n<title>23&#45;&gt;27</title>\n<path fill=\"none\" stroke=\"#000000\" d=\"M1063.7662,-400.9465C1085.2368,-388.6098 1109.3807,-374.7371 1130.4713,-362.6187\"/>\n<polygon fill=\"#000000\" stroke=\"#000000\" points=\"1132.3795,-365.5589 1139.3064,-357.5422 1128.8921,-359.4895 1132.3795,-365.5589\"/>\n</g>\n<!-- 25 -->\n<g id=\"node26\" class=\"node\">\n<title>25</title>\n<polygon fill=\"#e58139\" stroke=\"#000000\" points=\"998,-253.5 899,-253.5 899,-200.5 998,-200.5 998,-253.5\"/>\n<text text-anchor=\"middle\" x=\"948.5\" y=\"-238.3\" font-family=\"Helvetica,sans-Serif\" font-size=\"14.00\" fill=\"#000000\">samples = 1</text>\n<text text-anchor=\"middle\" x=\"948.5\" y=\"-223.3\" font-family=\"Helvetica,sans-Serif\" font-size=\"14.00\" fill=\"#000000\">value = [1, 0]</text>\n<text text-anchor=\"middle\" x=\"948.5\" y=\"-208.3\" font-family=\"Helvetica,sans-Serif\" font-size=\"14.00\" fill=\"#000000\">class = mal</text>\n</g>\n<!-- 24&#45;&gt;25 -->\n<g id=\"edge25\" class=\"edge\">\n<title>24&#45;&gt;25</title>\n<path fill=\"none\" stroke=\"#000000\" d=\"M985.4909,-296.9465C979.6658,-285.9316 973.193,-273.6922 967.3112,-262.5703\"/>\n<polygon fill=\"#000000\" stroke=\"#000000\" points=\"970.3057,-260.7459 962.5367,-253.5422 964.1178,-264.0184 970.3057,-260.7459\"/>\n</g>\n<!-- 26 -->\n<g id=\"node27\" class=\"node\">\n<title>26</title>\n<polygon fill=\"#399de5\" stroke=\"#000000\" points=\"1115,-253.5 1016,-253.5 1016,-200.5 1115,-200.5 1115,-253.5\"/>\n<text text-anchor=\"middle\" x=\"1065.5\" y=\"-238.3\" font-family=\"Helvetica,sans-Serif\" font-size=\"14.00\" fill=\"#000000\">samples = 2</text>\n<text text-anchor=\"middle\" x=\"1065.5\" y=\"-223.3\" font-family=\"Helvetica,sans-Serif\" font-size=\"14.00\" fill=\"#000000\">value = [0, 2]</text>\n<text text-anchor=\"middle\" x=\"1065.5\" y=\"-208.3\" font-family=\"Helvetica,sans-Serif\" font-size=\"14.00\" fill=\"#000000\">class = ben</text>\n</g>\n<!-- 24&#45;&gt;26 -->\n<g id=\"edge26\" class=\"edge\">\n<title>24&#45;&gt;26</title>\n<path fill=\"none\" stroke=\"#000000\" d=\"M1023.8011,-296.9465C1030.4334,-285.8215 1037.8103,-273.4473 1044.4933,-262.237\"/>\n<polygon fill=\"#000000\" stroke=\"#000000\" points=\"1047.5624,-263.9239 1049.6768,-253.5422 1041.5498,-260.3394 1047.5624,-263.9239\"/>\n</g>\n<!-- 29 -->\n<g id=\"node30\" class=\"node\">\n<title>29</title>\n<polygon fill=\"#399de5\" stroke=\"#000000\" points=\"1138,-565.5 1039,-565.5 1039,-512.5 1138,-512.5 1138,-565.5\"/>\n<text text-anchor=\"middle\" x=\"1088.5\" y=\"-550.3\" font-family=\"Helvetica,sans-Serif\" font-size=\"14.00\" fill=\"#000000\">samples = 5</text>\n<text text-anchor=\"middle\" x=\"1088.5\" y=\"-535.3\" font-family=\"Helvetica,sans-Serif\" font-size=\"14.00\" fill=\"#000000\">value = [0, 5]</text>\n<text text-anchor=\"middle\" x=\"1088.5\" y=\"-520.3\" font-family=\"Helvetica,sans-Serif\" font-size=\"14.00\" fill=\"#000000\">class = ben</text>\n</g>\n<!-- 28&#45;&gt;29 -->\n<g id=\"edge29\" class=\"edge\">\n<title>28&#45;&gt;29</title>\n<path fill=\"none\" stroke=\"#000000\" d=\"M1088.5,-608.9465C1088.5,-598.2621 1088.5,-586.4254 1088.5,-575.5742\"/>\n<polygon fill=\"#000000\" stroke=\"#000000\" points=\"1092.0001,-575.5421 1088.5,-565.5422 1085.0001,-575.5422 1092.0001,-575.5421\"/>\n</g>\n<!-- 30 -->\n<g id=\"node31\" class=\"node\">\n<title>30</title>\n<polygon fill=\"#e6843d\" stroke=\"#000000\" points=\"1395,-573 1218,-573 1218,-505 1395,-505 1395,-573\"/>\n<text text-anchor=\"middle\" x=\"1306.5\" y=\"-557.8\" font-family=\"Helvetica,sans-Serif\" font-size=\"14.00\" fill=\"#000000\">worst concavity &lt;= 0.191</text>\n<text text-anchor=\"middle\" x=\"1306.5\" y=\"-542.8\" font-family=\"Helvetica,sans-Serif\" font-size=\"14.00\" fill=\"#000000\">samples = 137</text>\n<text text-anchor=\"middle\" x=\"1306.5\" y=\"-527.8\" font-family=\"Helvetica,sans-Serif\" font-size=\"14.00\" fill=\"#000000\">value = [134, 3]</text>\n<text text-anchor=\"middle\" x=\"1306.5\" y=\"-512.8\" font-family=\"Helvetica,sans-Serif\" font-size=\"14.00\" fill=\"#000000\">class = mal</text>\n</g>\n<!-- 28&#45;&gt;30 -->\n<g id=\"edge30\" class=\"edge\">\n<title>28&#45;&gt;30</title>\n<path fill=\"none\" stroke=\"#000000\" d=\"M1159.8814,-608.9465C1180.9602,-598.8906 1204.1784,-587.814 1225.8003,-577.4989\"/>\n<polygon fill=\"#000000\" stroke=\"#000000\" points=\"1227.4398,-580.5948 1234.9583,-573.13 1224.4257,-574.2769 1227.4398,-580.5948\"/>\n</g>\n<!-- 31 -->\n<g id=\"node32\" class=\"node\">\n<title>31</title>\n<polygon fill=\"#bddef6\" stroke=\"#000000\" points=\"1390.5,-469 1222.5,-469 1222.5,-401 1390.5,-401 1390.5,-469\"/>\n<text text-anchor=\"middle\" x=\"1306.5\" y=\"-453.8\" font-family=\"Helvetica,sans-Serif\" font-size=\"14.00\" fill=\"#000000\">worst texture &lt;= 30.975</text>\n<text text-anchor=\"middle\" x=\"1306.5\" y=\"-438.8\" font-family=\"Helvetica,sans-Serif\" font-size=\"14.00\" fill=\"#000000\">samples = 5</text>\n<text text-anchor=\"middle\" x=\"1306.5\" y=\"-423.8\" font-family=\"Helvetica,sans-Serif\" font-size=\"14.00\" fill=\"#000000\">value = [2, 3]</text>\n<text text-anchor=\"middle\" x=\"1306.5\" y=\"-408.8\" font-family=\"Helvetica,sans-Serif\" font-size=\"14.00\" fill=\"#000000\">class = ben</text>\n</g>\n<!-- 30&#45;&gt;31 -->\n<g id=\"edge31\" class=\"edge\">\n<title>30&#45;&gt;31</title>\n<path fill=\"none\" stroke=\"#000000\" d=\"M1306.5,-504.9465C1306.5,-496.776 1306.5,-487.9318 1306.5,-479.3697\"/>\n<polygon fill=\"#000000\" stroke=\"#000000\" points=\"1310.0001,-479.13 1306.5,-469.13 1303.0001,-479.13 1310.0001,-479.13\"/>\n</g>\n<!-- 34 -->\n<g id=\"node35\" class=\"node\">\n<title>34</title>\n<polygon fill=\"#e58139\" stroke=\"#000000\" points=\"1524.5,-461.5 1408.5,-461.5 1408.5,-408.5 1524.5,-408.5 1524.5,-461.5\"/>\n<text text-anchor=\"middle\" x=\"1466.5\" y=\"-446.3\" font-family=\"Helvetica,sans-Serif\" font-size=\"14.00\" fill=\"#000000\">samples = 132</text>\n<text text-anchor=\"middle\" x=\"1466.5\" y=\"-431.3\" font-family=\"Helvetica,sans-Serif\" font-size=\"14.00\" fill=\"#000000\">value = [132, 0]</text>\n<text text-anchor=\"middle\" x=\"1466.5\" y=\"-416.3\" font-family=\"Helvetica,sans-Serif\" font-size=\"14.00\" fill=\"#000000\">class = mal</text>\n</g>\n<!-- 30&#45;&gt;34 -->\n<g id=\"edge34\" class=\"edge\">\n<title>30&#45;&gt;34</title>\n<path fill=\"none\" stroke=\"#000000\" d=\"M1358.89,-504.9465C1377.6153,-492.775 1398.641,-479.1084 1417.1053,-467.1066\"/>\n<polygon fill=\"#000000\" stroke=\"#000000\" points=\"1419.1889,-469.9267 1425.6659,-461.5422 1415.374,-464.0575 1419.1889,-469.9267\"/>\n</g>\n<!-- 32 -->\n<g id=\"node33\" class=\"node\">\n<title>32</title>\n<polygon fill=\"#399de5\" stroke=\"#000000\" points=\"1356,-357.5 1257,-357.5 1257,-304.5 1356,-304.5 1356,-357.5\"/>\n<text text-anchor=\"middle\" x=\"1306.5\" y=\"-342.3\" font-family=\"Helvetica,sans-Serif\" font-size=\"14.00\" fill=\"#000000\">samples = 3</text>\n<text text-anchor=\"middle\" x=\"1306.5\" y=\"-327.3\" font-family=\"Helvetica,sans-Serif\" font-size=\"14.00\" fill=\"#000000\">value = [0, 3]</text>\n<text text-anchor=\"middle\" x=\"1306.5\" y=\"-312.3\" font-family=\"Helvetica,sans-Serif\" font-size=\"14.00\" fill=\"#000000\">class = ben</text>\n</g>\n<!-- 31&#45;&gt;32 -->\n<g id=\"edge32\" class=\"edge\">\n<title>31&#45;&gt;32</title>\n<path fill=\"none\" stroke=\"#000000\" d=\"M1306.5,-400.9465C1306.5,-390.2621 1306.5,-378.4254 1306.5,-367.5742\"/>\n<polygon fill=\"#000000\" stroke=\"#000000\" points=\"1310.0001,-367.5421 1306.5,-357.5422 1303.0001,-367.5422 1310.0001,-367.5421\"/>\n</g>\n<!-- 33 -->\n<g id=\"node34\" class=\"node\">\n<title>33</title>\n<polygon fill=\"#e58139\" stroke=\"#000000\" points=\"1473,-357.5 1374,-357.5 1374,-304.5 1473,-304.5 1473,-357.5\"/>\n<text text-anchor=\"middle\" x=\"1423.5\" y=\"-342.3\" font-family=\"Helvetica,sans-Serif\" font-size=\"14.00\" fill=\"#000000\">samples = 2</text>\n<text text-anchor=\"middle\" x=\"1423.5\" y=\"-327.3\" font-family=\"Helvetica,sans-Serif\" font-size=\"14.00\" fill=\"#000000\">value = [2, 0]</text>\n<text text-anchor=\"middle\" x=\"1423.5\" y=\"-312.3\" font-family=\"Helvetica,sans-Serif\" font-size=\"14.00\" fill=\"#000000\">class = mal</text>\n</g>\n<!-- 31&#45;&gt;33 -->\n<g id=\"edge33\" class=\"edge\">\n<title>31&#45;&gt;33</title>\n<path fill=\"none\" stroke=\"#000000\" d=\"M1344.8102,-400.9465C1358.0694,-389.1606 1372.9058,-375.9726 1386.0916,-364.2519\"/>\n<polygon fill=\"#000000\" stroke=\"#000000\" points=\"1388.4912,-366.8018 1393.6401,-357.5422 1383.8407,-361.5699 1388.4912,-366.8018\"/>\n</g>\n</g>\n</svg>\n"
          },
          "metadata": {}
        }
      ],
      "source": [
        "from sklearn.tree import export_graphviz\n",
        "export_graphviz(tree,out_file=\"tree.dot\",class_names=[\"mal\",\"ben\"],\n",
        "               feature_names=cancer.feature_names, impurity=False,filled=True)\n",
        "\n",
        "import graphviz\n",
        "\n",
        "with open(\"tree.dot\") as f:\n",
        "  dot_graph = f.read()\n",
        "  display(graphviz.Source(dot_graph))"
      ]
    },
    {
      "cell_type": "code",
      "source": [
        ""
      ],
      "metadata": {
        "id": "aSokgCkCoBVg"
      },
      "execution_count": null,
      "outputs": []
    },
    {
      "cell_type": "code",
      "source": [
        ""
      ],
      "metadata": {
        "id": "TPPkgMi_oCqx"
      },
      "execution_count": null,
      "outputs": []
    },
    {
      "cell_type": "code",
      "source": [
        ""
      ],
      "metadata": {
        "id": "xRVN82WTntAU"
      },
      "execution_count": null,
      "outputs": []
    }
  ]
}