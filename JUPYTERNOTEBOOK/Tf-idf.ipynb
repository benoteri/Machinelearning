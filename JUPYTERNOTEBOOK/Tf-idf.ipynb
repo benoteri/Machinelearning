{
 "cells": [
  {
   "cell_type": "markdown",
   "id": "6d60cf22",
   "metadata": {},
   "source": [
    "# <u>Tf-idf Vectorizer</u>"
   ]
  },
  {
   "cell_type": "markdown",
   "id": "f38e5068",
   "metadata": {},
   "source": [
    "## Stands for: \n",
    "### Term Frequency-Inverse Document Frequency"
   ]
  },
  {
   "cell_type": "markdown",
   "id": "e5760a94",
   "metadata": {},
   "source": [
    "TF -> Shows how frequently a term occurs in a document\n",
    "##### Denoted by: Tf(t)=(Number of times term t appears in a document)/(Total number of terms in the document)\n",
    "Idf -> Shows the weight of rare words. The words that occur rarely in the corpus have a high IDF score.\n",
    "##### Denoted by: IDF(t) = log(Total number of documents)/(Number of documents with term t in it.)"
   ]
  },
  {
   "cell_type": "markdown",
   "id": "1fe09c53",
   "metadata": {},
   "source": [
    "## <u>Practical Example.</u>"
   ]
  },
  {
   "cell_type": "code",
   "execution_count": 2,
   "id": "10b3802a",
   "metadata": {},
   "outputs": [
    {
     "data": {
      "text/plain": [
       "'1.0.2'"
      ]
     },
     "execution_count": 2,
     "metadata": {},
     "output_type": "execute_result"
    }
   ],
   "source": [
    "import sklearn\n",
    "sklearn.__version__"
   ]
  },
  {
   "cell_type": "code",
   "execution_count": 1,
   "id": "88482ee0",
   "metadata": {},
   "outputs": [],
   "source": [
    "from sklearn.feature_extraction.text import TfidfVectorizer"
   ]
  },
  {
   "cell_type": "code",
   "execution_count": 8,
   "id": "e32bcc20",
   "metadata": {},
   "outputs": [],
   "source": [
    "tfidf=TfidfVectorizer()\n",
    "doc_1 = \"Farmers provide raw fruits and vegetables to supermarkets.\"\n",
    "doc_2 = \"Farmers provide raw fruits and vegetables to Individual customers.\""
   ]
  },
  {
   "cell_type": "code",
   "execution_count": 9,
   "id": "2f842651",
   "metadata": {},
   "outputs": [],
   "source": [
    "# fit is to provide data to the algorithm and transform the result and store in respons variable\n",
    "respons = tfidf.fit_transform([doc_1,doc_2])"
   ]
  },
  {
   "cell_type": "code",
   "execution_count": 13,
   "id": "6afbf8b7",
   "metadata": {},
   "outputs": [
    {
     "name": "stdout",
     "output_type": "stream",
     "text": [
      "10\n"
     ]
    }
   ],
   "source": [
    "#Checking for the number of UNIQUE words \n",
    "print(len(tfidf.vocabulary_))"
   ]
  },
  {
   "cell_type": "code",
   "execution_count": 11,
   "id": "7365c965",
   "metadata": {},
   "outputs": [
    {
     "data": {
      "text/plain": [
       "{'farmers': 2,\n",
       " 'provide': 5,\n",
       " 'raw': 6,\n",
       " 'fruits': 3,\n",
       " 'and': 0,\n",
       " 'vegetables': 9,\n",
       " 'to': 8,\n",
       " 'supermarkets': 7,\n",
       " 'individual': 4,\n",
       " 'customers': 1}"
      ]
     },
     "execution_count": 11,
     "metadata": {},
     "output_type": "execute_result"
    }
   ],
   "source": [
    "tfidf.vocabulary_"
   ]
  },
  {
   "cell_type": "code",
   "execution_count": 12,
   "id": "aa58a423",
   "metadata": {},
   "outputs": [
    {
     "name": "stdout",
     "output_type": "stream",
     "text": [
      "  (0, 7)\t0.4691317250431934\n",
      "  (0, 8)\t0.3337910861940011\n",
      "  (0, 9)\t0.3337910861940011\n",
      "  (0, 0)\t0.3337910861940011\n",
      "  (0, 3)\t0.3337910861940011\n",
      "  (0, 6)\t0.3337910861940011\n",
      "  (0, 5)\t0.3337910861940011\n",
      "  (0, 2)\t0.3337910861940011\n",
      "  (1, 1)\t0.42471718586982765\n",
      "  (1, 4)\t0.42471718586982765\n",
      "  (1, 8)\t0.30218977576862155\n",
      "  (1, 9)\t0.30218977576862155\n",
      "  (1, 0)\t0.30218977576862155\n",
      "  (1, 3)\t0.30218977576862155\n",
      "  (1, 6)\t0.30218977576862155\n",
      "  (1, 5)\t0.30218977576862155\n",
      "  (1, 2)\t0.30218977576862155\n"
     ]
    }
   ],
   "source": [
    "#Result(0,7)0 is the first sentence. 7 is the values as assigned above 7 = supermarkets\n",
    "print(respons)"
   ]
  },
  {
   "cell_type": "code",
   "execution_count": 15,
   "id": "77731de8",
   "metadata": {},
   "outputs": [
    {
     "name": "stdout",
     "output_type": "stream",
     "text": [
      "supermarkets  -  0.4691317250431934\n",
      "to  -  0.3337910861940011\n",
      "vegetables  -  0.3337910861940011\n",
      "and  -  0.3337910861940011\n",
      "fruits  -  0.3337910861940011\n",
      "raw  -  0.3337910861940011\n",
      "provide  -  0.3337910861940011\n",
      "farmers  -  0.3337910861940011\n",
      "customers  -  0.0\n",
      "individual  -  0.0\n",
      "to  -  0.3337910861940011\n",
      "vegetables  -  0.3337910861940011\n",
      "and  -  0.3337910861940011\n",
      "fruits  -  0.3337910861940011\n",
      "raw  -  0.3337910861940011\n",
      "provide  -  0.3337910861940011\n",
      "farmers  -  0.3337910861940011\n"
     ]
    }
   ],
   "source": [
    "#Ways to show the results\n",
    "feature_names = tfidf.get_feature_names()#get_feature names gives you the vocabulary of dataset\n",
    "for col in respons.nonzero()[1]:\n",
    "    print(feature_names[col], ' - ',respons[0,col])"
   ]
  },
  {
   "cell_type": "code",
   "execution_count": null,
   "id": "f203c20a",
   "metadata": {},
   "outputs": [],
   "source": []
  }
 ],
 "metadata": {
  "kernelspec": {
   "display_name": "Python 3 (ipykernel)",
   "language": "python",
   "name": "python3"
  },
  "language_info": {
   "codemirror_mode": {
    "name": "ipython",
    "version": 3
   },
   "file_extension": ".py",
   "mimetype": "text/x-python",
   "name": "python",
   "nbconvert_exporter": "python",
   "pygments_lexer": "ipython3",
   "version": "3.9.12"
  }
 },
 "nbformat": 4,
 "nbformat_minor": 5
}
