{
  "nbformat": 4,
  "nbformat_minor": 0,
  "metadata": {
    "colab": {
      "name": "EndSem.ipynb",
      "provenance": []
    },
    "kernelspec": {
      "name": "python3",
      "display_name": "Python 3"
    },
    "language_info": {
      "name": "python"
    }
  },
  "cells": [
    {
      "cell_type": "markdown",
      "source": [
        "NAME: **Benedict Oteri Oloka**<br>\n",
        "\n",
        "STUDENT ID: **658593**"
      ],
      "metadata": {
        "id": "xmZ94QzOs8bk"
      }
    },
    {
      "cell_type": "code",
      "source": [
        "from sklearn.datasets import load_breast_cancer\n",
        "from sklearn.tree import DecisionTreeClassifier\n",
        "from sklearn.ensemble import VotingClassifier\n",
        "from sklearn.model_selection import train_test_split\n",
        "from sklearn.linear_model import LogisticRegression\n",
        "from sklearn.neighbors import KNeighborsClassifier\n",
        "from sklearn.metrics import accuracy_score"
      ],
      "metadata": {
        "id": "cd8BKR6ps_3Y"
      },
      "execution_count": 22,
      "outputs": []
    },
    {
      "cell_type": "code",
      "execution_count": 43,
      "metadata": {
        "id": "WecU-85ds1lb"
      },
      "outputs": [],
      "source": [
        "log_clf = LogisticRegression(solver='lbfgs',max_iter=10000)\n",
        "cancer = load_breast_cancer()\n",
        "\n",
        "\n"
      ]
    },
    {
      "cell_type": "code",
      "source": [
        "X_train,X_test,y_train,y_test = train_test_split(\n",
        "    cancer.data,cancer.target,stratify=cancer.target, random_state=42)"
      ],
      "metadata": {
        "id": "7xshrqTnxfqU"
      },
      "execution_count": 5,
      "outputs": []
    },
    {
      "cell_type": "code",
      "source": [
        "#Training KNN Classifier\n",
        "\n",
        "knn_clf = KNeighborsClassifier(n_neighbors=n_neighbors)\n",
        "knn_clf.fit(X_train,y_train)\n",
        "y_pred1 = knn_clf.predict(X_test)\n",
        "print(\"KNN CLASSIFIRE ACCURACY: \",accuracy_score(y_test,y_pred1))"
      ],
      "metadata": {
        "colab": {
          "base_uri": "https://localhost:8080/"
        },
        "id": "lJ6rS3g7zPQC",
        "outputId": "e919182a-754d-4513-e0ea-d6394b466e49"
      },
      "execution_count": 37,
      "outputs": [
        {
          "output_type": "stream",
          "name": "stdout",
          "text": [
            "KNN CLASSIFIRE ACCURACY:  0.9440559440559441\n"
          ]
        }
      ]
    },
    {
      "cell_type": "code",
      "source": [
        "#Training Decision Tree model\n",
        "tree = DecisionTreeClassifier(random_state =0)\n",
        "dec_clf=tree.fit(X_train,y_train)\n",
        "D_pred1 = dec_clf.predict(X_test)\n",
        "print(\"DEC_CLF ACCURACY: \",accuracy_score(y_test,D_pred1))"
      ],
      "metadata": {
        "colab": {
          "base_uri": "https://localhost:8080/"
        },
        "id": "cvNPc5VWxly7",
        "outputId": "ac991314-7c9a-4ef7-d2f7-5e6ee5c29124"
      },
      "execution_count": 42,
      "outputs": [
        {
          "output_type": "stream",
          "name": "stdout",
          "text": [
            "DEC_CLF ACCURACY:  0.9370629370629371\n"
          ]
        }
      ]
    },
    {
      "cell_type": "code",
      "source": [
        "#Estimator ensemble creates a list of ensmeble elements\n",
        "#Classifier have not been trained\n",
        "voting_clf = VotingClassifier(estimators=[('lr',log_clf),('kf',knn_clf),('dec',tree)], voting = 'hard')"
      ],
      "metadata": {
        "id": "e9I__1VYxy6i"
      },
      "execution_count": 54,
      "outputs": []
    },
    {
      "cell_type": "code",
      "source": [
        "log_clf.fit(X_train,y_train)\n",
        "L_pred1 = log_clf.predict(X_test)\n",
        "print(\"LOG_CLF ACCURACY\",accuracy_score(y_test,L_pred1))"
      ],
      "metadata": {
        "colab": {
          "base_uri": "https://localhost:8080/"
        },
        "id": "f-KqviJH4SIg",
        "outputId": "242065dc-2918-4af5-b650-075f2227333e"
      },
      "execution_count": 47,
      "outputs": [
        {
          "output_type": "stream",
          "name": "stdout",
          "text": [
            "LOG_CLF ACCURACY 0.958041958041958\n"
          ]
        }
      ]
    },
    {
      "cell_type": "code",
      "source": [
        "#Evaluation \n",
        "for clf in (log_clf,knn_clf,tree,voting_clf):\n",
        " clf.fit(X_train,y_train)\n",
        " y_pred = clf.predict(X_test)\n",
        "print(clf.__class__.__name__,accuracy_score(y_test,y_pred))\n"
      ],
      "metadata": {
        "id": "oaXXeQa20YP9"
      },
      "execution_count": null,
      "outputs": []
    },
    {
      "cell_type": "code",
      "source": [
        "voting_clf.fit(X_train,y_train)\n",
        "y_pred2 = voting_clf.predict(X_test)\n"
      ],
      "metadata": {
        "id": "oBQ1kdwN09Lw"
      },
      "execution_count": 56,
      "outputs": []
    },
    {
      "cell_type": "code",
      "source": [
        "#Overall Evaluation\n",
        "print(\"KNN CLASSIFIER ACCURACY: \",accuracy_score(y_test,y_pred1))\n",
        "print(\"DEC_CLF ACCURACY: \",accuracy_score(y_test,D_pred1))\n",
        "print(\"LOG_CLF ACCURACY\",accuracy_score(y_test,L_pred1))\n",
        "print(\"Voting classifier accuracy\",accuracy_score(y_test,y_pred2))\n"
      ],
      "metadata": {
        "colab": {
          "base_uri": "https://localhost:8080/"
        },
        "id": "7IbgwMMT6R6f",
        "outputId": "18f6fff0-7a81-4730-c400-1519bfd5c65d"
      },
      "execution_count": 55,
      "outputs": [
        {
          "output_type": "stream",
          "name": "stdout",
          "text": [
            "KNN CLASSIFIER ACCURACY:  0.9440559440559441\n",
            "DEC_CLF ACCURACY:  0.9370629370629371\n",
            "LOG_CLF ACCURACY 0.958041958041958\n",
            "Voting classifier accuracy 0.951048951048951\n"
          ]
        }
      ]
    },
    {
      "cell_type": "markdown",
      "source": [
        "BENEFIT OF AN ENSEMBLE:<br>\n",
        "1. **Perfomance:**  An ensemble can make better predictions and achieve better performance than any single contributing model."
      ],
      "metadata": {
        "id": "oddJZlcZ6_dW"
      }
    },
    {
      "cell_type": "code",
      "source": [
        ""
      ],
      "metadata": {
        "id": "RYCNH1h56tAu"
      },
      "execution_count": null,
      "outputs": []
    }
  ]
}