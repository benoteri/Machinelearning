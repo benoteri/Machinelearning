{
  "cells": [
    {
      "cell_type": "code",
      "execution_count": null,
      "metadata": {
        "id": "2e0e9935"
      },
      "outputs": [],
      "source": [
        "from sklearn.datasets import load_diabetes\n",
        "from sklearn.model_selection import train_test_split\n",
        "from sklearn.linear_model import LinearRegression\n",
        "import pandas as pd\n",
        "from IPython.display import display\n",
        "import numpy as np\n",
        "import matplotlib.pyplot as plt\n"
      ],
      "id": "2e0e9935"
    },
    {
      "cell_type": "code",
      "execution_count": null,
      "metadata": {
        "id": "4e2e05fe"
      },
      "outputs": [],
      "source": [
        "#load Diabetes dataset\n",
        "data = load_diabetes()\n"
      ],
      "id": "4e2e05fe"
    },
    {
      "cell_type": "code",
      "execution_count": null,
      "metadata": {
        "id": "yXMds5vcMxgD"
      },
      "outputs": [],
      "source": [
        "#Creating X whixh is the bmi column\n",
        "X = data.data[:, np.newaxis,2]\n",
        "print(X)"
      ],
      "id": "yXMds5vcMxgD"
    },
    {
      "cell_type": "code",
      "execution_count": null,
      "metadata": {
        "id": "Q_LH0MRlNBNP"
      },
      "outputs": [],
      "source": [
        "#Splitting the training and testing data\n",
        "X_train = X[:-20]\n",
        "X_test = X[-20:]\n",
        "#Equal data on each\n",
        "y_train = data.target[:-20]\n",
        "y_test = data.target[-20:]"
      ],
      "id": "Q_LH0MRlNBNP"
    },
    {
      "cell_type": "code",
      "execution_count": null,
      "metadata": {
        "id": "Gpn6JY2fPUsC"
      },
      "outputs": [],
      "source": [
        "bmi_reg = LinearRegression()"
      ],
      "id": "Gpn6JY2fPUsC"
    },
    {
      "cell_type": "code",
      "execution_count": null,
      "metadata": {
        "colab": {
          "base_uri": "https://localhost:8080/"
        },
        "id": "piywmvRTPdzk",
        "outputId": "40b90cd1-acba-4070-c5e7-2d4f1610c04e"
      },
      "outputs": [
        {
          "data": {
            "text/plain": [
              "LinearRegression()"
            ]
          },
          "execution_count": 15,
          "metadata": {},
          "output_type": "execute_result"
        }
      ],
      "source": [
        "#Fit the data\n",
        "bmi_reg.fit(X_train,y_train)"
      ],
      "id": "piywmvRTPdzk"
    },
    {
      "cell_type": "code",
      "execution_count": null,
      "metadata": {
        "colab": {
          "base_uri": "https://localhost:8080/"
        },
        "id": "AfdWf0qgP_cI",
        "outputId": "c8124b6a-047d-4198-c1df-08efbd63d150"
      },
      "outputs": [
        {
          "name": "stdout",
          "output_type": "stream",
          "text": [
            "Coefficients: \n",
            " [938.23786125]\n"
          ]
        }
      ],
      "source": [
        "print('Coefficients: \\n', bmi_reg.coef_)"
      ],
      "id": "AfdWf0qgP_cI"
    },
    {
      "cell_type": "code",
      "execution_count": null,
      "metadata": {
        "id": "PEtxPmIFQ0JY"
      },
      "outputs": [],
      "source": [
        "#Learned Model\n",
        "train_m = bmi_reg.predict(X_test)"
      ],
      "id": "PEtxPmIFQ0JY"
    },
    {
      "cell_type": "code",
      "execution_count": 29,
      "metadata": {
        "colab": {
          "base_uri": "https://localhost:8080/",
          "height": 301
        },
        "id": "MLwT3U4ZQMFY",
        "outputId": "94f82e92-08d6-420d-96ce-d47695f665e9"
      },
      "outputs": [
        {
          "output_type": "execute_result",
          "data": {
            "text/plain": [
              "Text(0, 0.5, 'Glucose_levels(Target)')"
            ]
          },
          "metadata": {},
          "execution_count": 29
        },
        {
          "output_type": "display_data",
          "data": {
            "text/plain": [
              "<Figure size 432x288 with 1 Axes>"
            ],
            "image/png": "[encoded data removed]"
          },
          "metadata": {
            "needs_background": "light"
          }
        }
      ],
      "source": [
        "plt.scatter(X_test,y_test, color = 'blue')\n",
        "plt.plot(X_test,train_m,color='red')\n",
        "plt.xlabel('Bmi',size =15)\n",
        "plt.ylabel('Glucose_levels(Target)',size=15)\n",
        "\n"
      ],
      "id": "MLwT3U4ZQMFY"
    },
    {
      "cell_type": "code",
      "source": [
        "#Evaluation of the model\n",
        "print(\"Accuracy on training set: {:3f.}\", bmi_reg.score(X_train,y_train))\n",
        "print(\"Accuracy on tests data:\",bmi_reg.score(X_test,y_test))"
      ],
      "metadata": {
        "colab": {
          "base_uri": "https://localhost:8080/"
        },
        "id": "SMFn5AYXX4ky",
        "outputId": "16066fef-b2b2-4fc1-f7e8-845249fd4480"
      },
      "id": "SMFn5AYXX4ky",
      "execution_count": 28,
      "outputs": [
        {
          "output_type": "stream",
          "name": "stdout",
          "text": [
            "Accuracy on training set: {:3f.} 0.3351312506867543\n",
            "Accuracy on tests data: 0.47257544798227147\n"
          ]
        }
      ]
    },
    {
      "cell_type": "markdown",
      "source": [
        "The model is **NOT** Over-Fitting. This is because the test data accuracy is higher than the training data accuracy."
      ],
      "metadata": {
        "id": "DJ9l_fPga_Mo"
      },
      "id": "DJ9l_fPga_Mo"
    }
  ],
  "metadata": {
    "colab": {
      "collapsed_sections": [],
      "name": "Diabetes(LinearRegression).ipynb",
      "provenance": []
    },
    "kernelspec": {
      "display_name": "Python 3",
      "language": "python",
      "name": "python3"
    },
    "language_info": {
      "codemirror_mode": {
        "name": "ipython",
        "version": 3
      },
      "file_extension": ".py",
      "mimetype": "text/x-python",
      "name": "python",
      "nbconvert_exporter": "python",
      "pygments_lexer": "ipython3",
      "version": "3.8.8"
    }
  },
  "nbformat": 4,
  "nbformat_minor": 5
}