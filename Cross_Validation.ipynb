{
  "nbformat": 4,
  "nbformat_minor": 0,
  "metadata": {
    "colab": {
      "name": "Cross-Validation.ipynb",
      "provenance": [],
      "authorship_tag": "ABX9TyOAzB6QnT3jy9d2+tbt/gvA",
      "include_colab_link": true
    },
    "kernelspec": {
      "name": "python3",
      "display_name": "Python 3"
    },
    "language_info": {
      "name": "python"
    }
  },
  "cells": [
    {
      "cell_type": "markdown",
      "metadata": {
        "id": "view-in-github",
        "colab_type": "text"
      },
      "source": [
        "<a href=\"https://colab.research.google.com/github/benoteri/Machinelearning/blob/main/Cross_Validation.ipynb\" target=\"_parent\"><img src=\"https://colab.research.google.com/assets/colab-badge.svg\" alt=\"Open In Colab\"/></a>"
      ]
    },
    {
      "cell_type": "code",
      "execution_count": 4,
      "metadata": {
        "id": "xhQyh9JmnI6Q"
      },
      "outputs": [],
      "source": [
        "from sklearn.datasets import load_iris\n",
        "from sklearn.linear_model import LogisticRegression\n",
        "from sklearn.model_selection import cross_val_score"
      ]
    },
    {
      "cell_type": "code",
      "source": [
        "iris = load_iris()\n",
        "logreg = LogisticRegression(max_iter=400)\n",
        "\n",
        "scores = cross_val_score(logreg,iris.data,iris.target, cv = 5)\n",
        "for score in scores:\n",
        "  print(\"Accuracy score is:\",score)\n",
        "\n",
        "print(\"Average cross-vaidation score:\",scores.mean())"
      ],
      "metadata": {
        "colab": {
          "base_uri": "https://localhost:8080/"
        },
        "id": "VwP19Vljpr6m",
        "outputId": "487aef8b-d6cc-4fa4-dcee-f7ac9f821752"
      },
      "execution_count": 9,
      "outputs": [
        {
          "output_type": "stream",
          "name": "stdout",
          "text": [
            "Accuracy score is: 0.9666666666666667\n",
            "Accuracy score is: 1.0\n",
            "Accuracy score is: 0.9333333333333333\n",
            "Accuracy score is: 0.9666666666666667\n",
            "Accuracy score is: 1.0\n",
            "Average cross-vaidation score: 0.9733333333333334\n"
          ]
        }
      ]
    },
    {
      "cell_type": "markdown",
      "source": [
        "You dont get a model out of cross validation. \n",
        "You dont get a set of performance metrics.\n",
        "You are not evaluating as specific model\n",
        "Instead you are evaluating the algorithm.\n",
        "\n",
        "**This example is logistic Regression**\n"
      ],
      "metadata": {
        "id": "DQAhdt6XrEfV"
      }
    },
    {
      "cell_type": "code",
      "source": [
        ""
      ],
      "metadata": {
        "id": "j9_kac8AqIAY"
      },
      "execution_count": null,
      "outputs": []
    }
  ]
}